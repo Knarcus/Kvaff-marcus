{
 "cells": [
  {
   "cell_type": "code",
   "execution_count": 11,
   "metadata": {},
   "outputs": [],
   "source": [
    "\n",
    "from linkedQFile import *\n",
    "from pythonds import Stack\n",
    "\n",
    "class GrammatikFel(Exception):\n",
    "    pass\n"
   ]
  },
  {
   "cell_type": "code",
   "execution_count": null,
   "metadata": {},
   "outputs": [],
   "source": [
    "def kontrolleraFormel(formel):\n",
    "    stack = Stack() #Den här ska kontrollera våra paranteser\n",
    "    if formel.peek() == \"(\":\n",
    "        stack.push(formel.dequeue()) #Pushar in resten.\n",
    "\n",
    "def kontrolleraMolekyl(formel):\n",
    "    stack = Stack() #Den här ska kontrollera våra paranteser\n",
    "    if formel.peek() == \"(\":\n",
    "        stack.push(formel.dequeue()) #Pushar in resten.\n",
    "\n",
    "    \n",
    "    \n",
    "\n"
   ]
  },
  {
   "cell_type": "code",
   "execution_count": 6,
   "metadata": {},
   "outputs": [
    {
     "name": "stdout",
     "output_type": "stream",
     "text": [
      "Fel alla andra bokstäver måste vara liten: 2\n"
     ]
    }
   ],
   "source": [
    "def kollaGrammatiken(formel):\n",
    "    formel = bryt_Ned_Molekyl(formel)\n",
    "    \n",
    "    try:\n",
    "        kontrolleraFormel(formel)\n",
    "        return \"Följer vår syntax\"\n",
    "    except GrammatikFel as fel:\n",
    "        return str(fel)\n",
    "\n",
    "def bryt_Ned_Molekyl(formel):\n",
    "    q = LinkedQ()\n",
    "    for char in formel: # Iterera över varje tecken\n",
    "        q.enqueue(char)\n",
    "    q.enqueue(\".\") #Punkten ska indikera att något är avbrutet \n",
    "    return q"
   ]
  },
  {
   "cell_type": "code",
   "execution_count": null,
   "metadata": {},
   "outputs": [],
   "source": []
  }
 ],
 "metadata": {
  "kernelspec": {
   "display_name": "nn",
   "language": "python",
   "name": "python3"
  },
  "language_info": {
   "codemirror_mode": {
    "name": "ipython",
    "version": 3
   },
   "file_extension": ".py",
   "mimetype": "text/x-python",
   "name": "python",
   "nbconvert_exporter": "python",
   "pygments_lexer": "ipython3",
   "version": "3.11.7"
  }
 },
 "nbformat": 4,
 "nbformat_minor": 2
}
