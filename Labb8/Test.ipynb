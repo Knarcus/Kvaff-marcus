{
 "cells": [
  {
   "cell_type": "code",
   "execution_count": 2,
   "metadata": {},
   "outputs": [],
   "source": [
    "\n",
    "from linkedQFile import *\n",
    "from pythonds import Stack\n",
    "\n",
    "class GrammatikFel(Exception):\n",
    "    pass\n",
    "\n",
    "elements = [\n",
    "    \"H\", \"He\", \"Li\", \"Be\", \"B\", \"C\", \"N\", \"O\", \"F\", \"Ne\",\n",
    "    \"Na\", \"Mg\", \"Al\", \"Si\", \"P\", \"S\", \"Cl\", \"Ar\", \"K\", \"Ca\",\n",
    "    \"Sc\", \"Ti\", \"V\", \"Cr\", \"Mn\", \"Fe\", \"Co\", \"Ni\", \"Cu\", \"Zn\",\n",
    "    \"Ga\", \"Ge\", \"As\", \"Se\", \"Br\", \"Kr\", \"Rb\", \"Sr\", \"Y\", \"Zr\",\n",
    "    \"Nb\", \"Mo\", \"Tc\", \"Ru\", \"Rh\", \"Pd\", \"Ag\", \"Cd\", \"In\", \"Sn\",\n",
    "    \"Sb\", \"Te\", \"I\", \"Xe\", \"Cs\", \"Ba\", \"La\", \"Ce\", \"Pr\", \"Nd\",\n",
    "    \"Pm\", \"Sm\", \"Eu\", \"Gd\", \"Tb\", \"Dy\", \"Ho\", \"Er\", \"Tm\", \"Yb\",\n",
    "    \"Lu\", \"Hf\", \"Ta\", \"W\", \"Re\", \"Os\", \"Ir\", \"Pt\", \"Au\", \"Hg\",\n",
    "    \"Tl\", \"Pb\", \"Bi\", \"Po\", \"At\", \"Rn\", \"Fr\", \"Ra\", \"Ac\", \"Th\",\n",
    "    \"Pa\", \"U\", \"Np\", \"Pu\", \"Am\", \"Cm\", \"Bk\", \"Cf\", \"Es\", \"Fm\",\n",
    "    \"Md\", \"No\", \"Lr\", \"Rf\", \"Db\", \"Sg\", \"Bh\", \"Hs\", \"Mt\", \"Ds\",\n",
    "    \"Rg\", \"Cn\", \"Fl\", \"Lv\"\n",
    "]"
   ]
  },
  {
   "cell_type": "code",
   "execution_count": 64,
   "metadata": {},
   "outputs": [
    {
     "name": "stdout",
     "output_type": "stream",
     "text": [
      "(\n",
      "(\n",
      "C\n"
     ]
    },
    {
     "data": {
      "text/plain": [
       "'Fel måste stänga parantes'"
      ]
     },
     "execution_count": 64,
     "metadata": {},
     "output_type": "execute_result"
    }
   ],
   "source": [
    "kollaGrammatiken(\"(CO)\")"
   ]
  },
  {
   "cell_type": "code",
   "execution_count": 62,
   "metadata": {},
   "outputs": [],
   "source": [
    "# Vi kallar vår fundamentallista molekyl\n",
    "# \n",
    "\n",
    "def kontrol_formel(molekyl):\n",
    "    kontroll_mol(molekyl)\n",
    "    \n",
    "\n",
    "def kontroll_mol(molekyl):\n",
    "    if molekyl.peek() != \".\":\n",
    "        \n",
    "        kontroll_group(molekyl)\n",
    "        # break kriteria.\n",
    "        kontroll_mol(molekyl) #Börjar om om det finns med:\n",
    "\n",
    "def kontroll_mol_parantes(molekyl):\n",
    "    if molekyl.peek() != \".\":\n",
    "        kontroll_group(molekyl)\n",
    "\n",
    "def kontroll_group(molekyl):\n",
    "    # if LETTER -> Atom else: () -> Molekyl\n",
    "    print(molekyl.peek())\n",
    "    if molekyl.peek().isalpha(): # isalpha kommer fånga små bokstäver som är felskrivna\n",
    "        kontroll_atom(molekyl)\n",
    "        kontroll_num(molekyl)\n",
    "    elif molekyl.peek() == \"(\": #vi kan strunta i en stack för vi har rekursion\n",
    "        print(molekyl.dequeue())\n",
    "        # molekyl med parantes.\n",
    "        kontroll_mol_parantes(molekyl) #kom ihåg att returna molekyl:\n",
    "        if molekyl.peek() == \")\":\n",
    "            print(molekyl.dequeue())\n",
    "            kontroll_num(molekyl)\n",
    "        else:\n",
    "            raise GrammatikFel(\"Fel måste stänga parantes\")\n",
    "    else:\n",
    "        raise GrammatikFel(\"Fel måste vara en bokstav\")\n",
    "\n",
    "def kontroll_atom(molekyl):\n",
    "    atom = \"\"\n",
    "    atom += kontroll_LETTER(molekyl)\n",
    "    if molekyl.peek().islower():\n",
    "        atom += kontroll_letter(molekyl)\n",
    "    \n",
    "    if slå_upp_atom(atom):\n",
    "        return \n",
    "    else:\n",
    "        raise GrammatikFel(\"Atomen finns inte med i listan\" + atom)\n",
    "    # Return sats från de två ovan så att de kontrollerar med vår lista\n",
    "    \n",
    "def kontroll_LETTER(molekyl):\n",
    "    \n",
    "    storBokstav = molekyl.peek()\n",
    "    if storBokstav.isupper():\n",
    "        molekyl.dequeue()\n",
    "        return storBokstav\n",
    "    raise GrammatikFel(\"Fel alla molekyler måste börja med stor bokstav: \" + storBokstav)\n",
    "\n",
    "def kontroll_letter(molekyl):\n",
    "        return molekyl.deque()\n",
    "    \n",
    "\n",
    "def kontroll_num(molekyl):\n",
    "    \n",
    "    nr_str = \"\"\n",
    "    while molekyl.peek().isdigit(): # kontrollerar om det är ett nummer\n",
    "        char = molekyl.dequeue()\n",
    "        nr_str += char\n",
    "    \n",
    "    if nr_str != \"\":\n",
    "        num = int(nr_str)\n",
    "        if num <= 1 and num.isdigit():\n",
    "            raise GrammatikFel(\"för litet tal vid radslutet\" + str(num))\n",
    "    else:\n",
    "        return \"\"\n",
    "    \n",
    "\n",
    "def slå_upp_atom(atom): # VÄnta med att skriva det här:\n",
    "    return atom in elements"
   ]
  },
  {
   "cell_type": "code",
   "execution_count": 50,
   "metadata": {},
   "outputs": [],
   "source": [
    "def kontrolleraFormel(formel):\n",
    "    stack = Stack() #Den här ska kontrollera våra paranteser\n",
    "    if formel.peek() == \"(\":\n",
    "        stack.push(formel.dequeue()) #Pushar in resten.\n",
    "\n",
    "def kontrolleraMolekyl(formel):\n",
    "    stack = Stack() #Den här ska kontrollera våra paranteser\n",
    "    if formel.peek() == \"(\":\n",
    "        stack.push(formel.dequeue()) #Pushar in resten.\n",
    "\n"
   ]
  },
  {
   "cell_type": "code",
   "execution_count": 53,
   "metadata": {},
   "outputs": [],
   "source": [
    "def kollaGrammatiken(formel):\n",
    "    formel = bryt_Ned_Molekyl(formel)\n",
    "    \n",
    "    try:\n",
    "        kontrol_formel(formel)\n",
    "        return \"Följer vår syntax\"\n",
    "    except GrammatikFel as fel:\n",
    "        return str(fel)\n",
    "\n",
    "def bryt_Ned_Molekyl(molekyl):\n",
    "    q = LinkedQ()\n",
    "    for char in molekyl: # Iterera över varje tecken\n",
    "        q.enqueue(char)\n",
    "    q.enqueue(\".\") #Punkten ska indikera att något är avbrutet \n",
    "    return q"
   ]
  },
  {
   "cell_type": "code",
   "execution_count": 52,
   "metadata": {},
   "outputs": [
    {
     "name": "stdout",
     "output_type": "stream",
     "text": [
      "(\n",
      "(\n"
     ]
    },
    {
     "data": {
      "text/plain": [
       "'Fel måste vara en bokstav'"
      ]
     },
     "execution_count": 52,
     "metadata": {},
     "output_type": "execute_result"
    }
   ],
   "source": [
    "kollaGrammatiken()"
   ]
  },
  {
   "cell_type": "code",
   "execution_count": null,
   "metadata": {},
   "outputs": [],
   "source": []
  },
  {
   "cell_type": "code",
   "execution_count": null,
   "metadata": {},
   "outputs": [],
   "source": []
  },
  {
   "cell_type": "code",
   "execution_count": null,
   "metadata": {},
   "outputs": [],
   "source": []
  }
 ],
 "metadata": {
  "kernelspec": {
   "display_name": "nn",
   "language": "python",
   "name": "python3"
  },
  "language_info": {
   "codemirror_mode": {
    "name": "ipython",
    "version": 3
   },
   "file_extension": ".py",
   "mimetype": "text/x-python",
   "name": "python",
   "nbconvert_exporter": "python",
   "pygments_lexer": "ipython3",
   "version": "3.11.7"
  }
 },
 "nbformat": 4,
 "nbformat_minor": 2
}
